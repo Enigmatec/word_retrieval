{
 "cells": [
  {
   "cell_type": "code",
   "execution_count": 3,
   "id": "835465e4",
   "metadata": {},
   "outputs": [],
   "source": [
    "from sentence_transformers import SentenceTransformer\n",
    "import faiss\n",
    "import spacy"
   ]
  },
  {
   "cell_type": "code",
   "execution_count": 4,
   "id": "28075690",
   "metadata": {},
   "outputs": [],
   "source": [
    "nlp = spacy.load('en_core_web_sm')"
   ]
  },
  {
   "cell_type": "code",
   "execution_count": 42,
   "id": "ee56c99e",
   "metadata": {},
   "outputs": [],
   "source": [
    "def sentencize(text):\n",
    "    doc = nlp(text)\n",
    "    sentences = []\n",
    "    for sentence in doc.sents:\n",
    "        sentences.append(f'{sentence}')\n",
    "    return sentences"
   ]
  },
  {
   "cell_type": "code",
   "execution_count": 43,
   "id": "89300523",
   "metadata": {},
   "outputs": [],
   "source": [
    "def read_file(file_path):\n",
    "    with open(file_path, \"r\") as file:\n",
    "        lines = file.readlines()\n",
    "    return lines   "
   ]
  },
  {
   "cell_type": "code",
   "execution_count": 44,
   "id": "17936715",
   "metadata": {},
   "outputs": [],
   "source": [
    "file_path = '/home/abhay/Desktop/health'"
   ]
  },
  {
   "cell_type": "code",
   "execution_count": 45,
   "id": "10dda0c9",
   "metadata": {},
   "outputs": [],
   "source": [
    "text = read_file(file_path)\n",
    "\n",
    "text = \" \".join(text)"
   ]
  },
  {
   "cell_type": "code",
   "execution_count": 46,
   "id": "1696352f",
   "metadata": {},
   "outputs": [],
   "source": [
    "sentences = sentencize(text)"
   ]
  },
  {
   "cell_type": "code",
   "execution_count": 48,
   "id": "8a559d35",
   "metadata": {},
   "outputs": [],
   "source": [
    "sentences = [sentence.strip() for sentence in sentences]"
   ]
  },
  {
   "cell_type": "code",
   "execution_count": 49,
   "id": "f95b7bf5",
   "metadata": {},
   "outputs": [
    {
     "data": {
      "text/plain": [
       "['Health is one of the most valuable assets a person can have.',\n",
       " 'Maintaining good health is essential for leading a fulfilling life, as it directly impacts our physical, mental, and emotional well-being.',\n",
       " 'A balanced diet, regular exercise, and adequate sleep play crucial roles in keeping the body functioning optimally.',\n",
       " 'Additionally, managing stress and maintaining positive social connections contribute significantly to overall health.',\n",
       " 'When individuals prioritize their health, they enhance their quality of life and increase their longevity.',\n",
       " 'Physical health is the foundation of a strong and active lifestyle.',\n",
       " 'Engaging in regular physical activity, such as walking, running, or strength training, helps keep the heart, muscles, and bones in good condition.',\n",
       " 'It also aids in weight management and reduces the risk of chronic diseases like diabetes, hypertension, and heart disease.',\n",
       " 'Furthermore, adopting healthy eating habits, such as consuming fruits, vegetables, lean proteins, and whole grains, provides the body with essential nutrients for growth and repair.',\n",
       " 'Mental health is just as important as physical health.',\n",
       " \"In today's fast-paced world, stress, anxiety, and depression have become common issues affecting many people.\",\n",
       " 'Practicing mindfulness, meditation, and relaxation techniques can help in managing mental well-being.',\n",
       " 'Seeking professional support when needed and talking to trusted friends or family members can also provide emotional relief.',\n",
       " 'A healthy mind contributes to better decision-making, improved relationships, and overall happiness.',\n",
       " 'Preventive healthcare plays a vital role in reducing the burden of illness and medical expenses.',\n",
       " 'Regular health check-ups, vaccinations, and screenings help detect potential health issues early, allowing for timely treatment and management.',\n",
       " 'Avoiding harmful habits like smoking, excessive alcohol consumption, and substance abuse can also significantly lower health risks.',\n",
       " 'Education and awareness about health-related topics empower individuals to make informed choices about their well-being.',\n",
       " 'Ultimately, a healthy lifestyle is about balance and consistency.',\n",
       " \"Taking small, sustainable steps toward better health can have a lasting impact on one's overall well-being.\",\n",
       " 'Whether it’s engaging in physical activity, eating nutritious foods, practicing self-care, or maintaining social connections, every effort counts.',\n",
       " 'Investing in health today ensures a better, more vibrant future, allowing individuals to lead fulfilling and productive lives.']"
      ]
     },
     "execution_count": 49,
     "metadata": {},
     "output_type": "execute_result"
    }
   ],
   "source": [
    "sentences"
   ]
  },
  {
   "cell_type": "code",
   "execution_count": 50,
   "id": "e03699c3",
   "metadata": {},
   "outputs": [],
   "source": [
    "checkpoint = \"sentence-transformers/multi-qa-MiniLM-L6-cos-v1\"\n",
    "\n",
    "model = SentenceTransformer(checkpoint)"
   ]
  },
  {
   "cell_type": "code",
   "execution_count": 51,
   "id": "0c67412a",
   "metadata": {},
   "outputs": [],
   "source": [
    "sentence_embedding = model.encode(sentences, normalize_embeddings=True)"
   ]
  },
  {
   "cell_type": "code",
   "execution_count": 53,
   "id": "2eded314",
   "metadata": {},
   "outputs": [
    {
     "data": {
      "text/plain": [
       "(22, 384)"
      ]
     },
     "execution_count": 53,
     "metadata": {},
     "output_type": "execute_result"
    }
   ],
   "source": [
    "sentence_embedding.shape"
   ]
  },
  {
   "cell_type": "code",
   "execution_count": 55,
   "id": "999aeb85",
   "metadata": {},
   "outputs": [
    {
     "data": {
      "text/plain": [
       "384"
      ]
     },
     "execution_count": 55,
     "metadata": {},
     "output_type": "execute_result"
    }
   ],
   "source": [
    "embedding_size = sentence_embedding.shape[1]\n",
    "\n",
    "embedding_size"
   ]
  },
  {
   "cell_type": "code",
   "execution_count": 56,
   "id": "474defff",
   "metadata": {},
   "outputs": [],
   "source": [
    "index = faiss.IndexFlatIP(embedding_size)"
   ]
  },
  {
   "cell_type": "code",
   "execution_count": 57,
   "id": "23964797",
   "metadata": {},
   "outputs": [],
   "source": [
    "index.add(sentence_embedding)"
   ]
  },
  {
   "cell_type": "code",
   "execution_count": 58,
   "id": "2e5f26c3",
   "metadata": {},
   "outputs": [
    {
     "data": {
      "text/plain": [
       "22"
      ]
     },
     "execution_count": 58,
     "metadata": {},
     "output_type": "execute_result"
    }
   ],
   "source": [
    "index.ntotal"
   ]
  },
  {
   "cell_type": "code",
   "execution_count": 59,
   "id": "34e06d59",
   "metadata": {},
   "outputs": [
    {
     "data": {
      "text/plain": [
       "True"
      ]
     },
     "execution_count": 59,
     "metadata": {},
     "output_type": "execute_result"
    }
   ],
   "source": [
    "index.is_trained"
   ]
  },
  {
   "cell_type": "code",
   "execution_count": 60,
   "id": "23d6f0e5",
   "metadata": {},
   "outputs": [],
   "source": [
    "query = ['What harmful habits should be avoided']"
   ]
  },
  {
   "cell_type": "code",
   "execution_count": 61,
   "id": "ba2fe32f",
   "metadata": {},
   "outputs": [],
   "source": [
    "query_embedding = model.encode(query, normalize_embeddings=True)"
   ]
  },
  {
   "cell_type": "code",
   "execution_count": 64,
   "id": "a64c45a8",
   "metadata": {},
   "outputs": [],
   "source": [
    "k = 3 #no of output to fetch\n",
    "\n",
    "scores, indices = index.search(query_embedding, 3)"
   ]
  },
  {
   "cell_type": "code",
   "execution_count": 65,
   "id": "e79890f1",
   "metadata": {},
   "outputs": [
    {
     "data": {
      "text/plain": [
       "array([[0.6801988 , 0.42958993, 0.37373215]], dtype=float32)"
      ]
     },
     "execution_count": 65,
     "metadata": {},
     "output_type": "execute_result"
    }
   ],
   "source": [
    "scores"
   ]
  },
  {
   "cell_type": "code",
   "execution_count": 80,
   "id": "b8ae738d",
   "metadata": {},
   "outputs": [
    {
     "data": {
      "text/plain": [
       "array([[16, 18,  4]])"
      ]
     },
     "execution_count": 80,
     "metadata": {},
     "output_type": "execute_result"
    }
   ],
   "source": [
    "indices"
   ]
  },
  {
   "cell_type": "code",
   "execution_count": 84,
   "id": "d1a50eaf",
   "metadata": {},
   "outputs": [
    {
     "data": {
      "text/plain": [
       "'Avoiding harmful habits like smoking, excessive alcohol consumption, and substance abuse can also significantly lower health risks.'"
      ]
     },
     "execution_count": 84,
     "metadata": {},
     "output_type": "execute_result"
    }
   ],
   "source": [
    "sentences[indices[0][0]]"
   ]
  },
  {
   "cell_type": "code",
   "execution_count": 95,
   "id": "1ffbc572",
   "metadata": {},
   "outputs": [
    {
     "data": {
      "text/plain": [
       "'Avoiding harmful habits like smoking, excessive alcohol consumption, and substance abuse can also significantly lower health risks. Ultimately, a healthy lifestyle is about balance and consistency. When individuals prioritize their health, they enhance their quality of life and increase their longevity.'"
      ]
     },
     "execution_count": 95,
     "metadata": {},
     "output_type": "execute_result"
    }
   ],
   "source": [
    "results = []\n",
    "for i in range(k):\n",
    "    results.append(sentences[indices[0][i]])\n",
    "\" \".join(results)"
   ]
  },
  {
   "cell_type": "code",
   "execution_count": null,
   "id": "af0c9428",
   "metadata": {},
   "outputs": [],
   "source": []
  }
 ],
 "metadata": {
  "kernelspec": {
   "display_name": "Python 3 (ipykernel)",
   "language": "python",
   "name": "python3"
  },
  "language_info": {
   "codemirror_mode": {
    "name": "ipython",
    "version": 3
   },
   "file_extension": ".py",
   "mimetype": "text/x-python",
   "name": "python",
   "nbconvert_exporter": "python",
   "pygments_lexer": "ipython3",
   "version": "3.12.2"
  }
 },
 "nbformat": 4,
 "nbformat_minor": 5
}
