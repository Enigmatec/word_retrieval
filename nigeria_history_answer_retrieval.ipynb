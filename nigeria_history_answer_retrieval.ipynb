{
 "cells": [
  {
   "cell_type": "code",
   "execution_count": 1,
   "id": "22ec4915",
   "metadata": {},
   "outputs": [],
   "source": [
    "from sentence_transformers import SentenceTransformer\n",
    "import spacy\n",
    "import re\n",
    "import faiss"
   ]
  },
  {
   "cell_type": "code",
   "execution_count": 2,
   "id": "e9b2ea70",
   "metadata": {},
   "outputs": [],
   "source": [
    "nlp = spacy.load('en_core_web_sm')"
   ]
  },
  {
   "cell_type": "code",
   "execution_count": 3,
   "id": "2be7f3aa",
   "metadata": {},
   "outputs": [],
   "source": [
    "def read_file(file_path):\n",
    "    with open(file_path, \"r\") as file:\n",
    "        lines = file.readlines()\n",
    "    return lines "
   ]
  },
  {
   "cell_type": "code",
   "execution_count": 12,
   "id": "e0220e77",
   "metadata": {},
   "outputs": [],
   "source": [
    "file_path = 'corpus/nigeria'"
   ]
  },
  {
   "cell_type": "code",
   "execution_count": 13,
   "id": "b74a50ae",
   "metadata": {},
   "outputs": [],
   "source": [
    "corpus = read_file(file_path)"
   ]
  },
  {
   "cell_type": "code",
   "execution_count": 14,
   "id": "cd1c65b3",
   "metadata": {},
   "outputs": [
    {
     "data": {
      "text/plain": [
       "\"Nigeria, the most populous country in Africa, has a rich and diverse history shaped by ancient civilizations, colonial rule, and its path to independence. The country, located in West Africa, is home to over 250 ethnic groups and has experienced significant historical events that have influenced its development. From the early kingdoms to modern governance, Nigeria’s history is a fascinating narrative of resilience, struggle, and growth.\\n\\nAncient Kingdoms and Civilizations\\nLong before European contact, several powerful kingdoms and civilizations thrived in what is now Nigeria. The Nok civilization (1000 BC–300 AD) is one of the earliest known societies, famous for its advanced terracotta sculptures. Later, the Yoruba Kingdoms of Ife and Oyo, as well as the Benin Empire, became dominant in the southwestern region. In the north, the Kanem-Bornu Empire and the Hausa city-states developed as powerful trading hubs, engaging in commerce with North Africa and the Arab world.\\n\\nThe Influence of Islam and Christianity\\nIslam arrived in northern Nigeria through trade routes from North Africa as early as the 11th century. It spread rapidly, influencing governance, education, and culture in the region. The Sokoto Caliphate, established by Usman dan Fodio in the early 19th century, became one of the largest Islamic states in Africa. Meanwhile, Christianity was introduced to southern Nigeria in the 15th century by Portuguese missionaries and expanded significantly during British colonial rule. These two religions continue to shape Nigeria’s cultural and political landscape today.\\n\\nThe Transatlantic Slave Trade and Colonial Expansion\\nBetween the 16th and 19th centuries, the transatlantic slave trade significantly impacted Nigeria. European traders, particularly the British, Portuguese, and Dutch, established coastal trade posts to exchange goods for enslaved Africans. The ports of Lagos, Calabar, and Bonny became key centers for this trade. The abolition of the slave trade in the 19th century led to a shift in European interests toward colonization and economic exploitation of Nigeria’s natural resources.\\n\\nBritish Colonial Rule and the Amalgamation of Nigeria\\nThe British gradually extended their control over Nigeria through military conquests and diplomatic treaties. In 1914, the British merged the Northern and Southern Protectorates with the Colony of Lagos to form modern Nigeria. This move was largely for administrative convenience and economic exploitation, without considering the vast ethnic and cultural differences among Nigeria’s diverse population. The effects of this forced amalgamation remain evident in Nigeria’s contemporary political challenges.\\n\\nStruggle for Independence and the First Republic\\nBy the early 20th century, Nigerians began demanding self-rule. Nationalist movements, led by figures such as Nnamdi Azikiwe, Obafemi Awolowo, and Ahmadu Bello, called for political and economic independence. In 1960, Nigeria gained independence from Britain, and a parliamentary system was adopted. However, the regional divisions created during colonial rule led to tensions and conflicts among the country’s major ethnic groups—the Hausa-Fulani in the north, the Yoruba in the west, and the Igbo in the east.\\n\\nThe Nigerian Civil War (1967–1970)\\nOne of Nigeria’s most devastating conflicts was the Biafran War, also known as the Nigerian Civil War. After a series of ethnic and political crises, the eastern region, dominated by the Igbo, declared independence as the Republic of Biafra in 1967. This led to a brutal war between the Nigerian government and Biafran forces, resulting in widespread famine and the deaths of over a million people. The war ended in 1970 with Biafra’s surrender, but its impact continues to shape Nigeria’s political and ethnic relations.\\n\\nMilitary Rule and Political Instability\\nFollowing the civil war, Nigeria experienced a series of military coups and countercoups, leading to years of dictatorship. Leaders such as General Yakubu Gowon, Murtala Muhammed, Olusegun Obasanjo, and Sani Abacha ruled at different times, often suppressing political opposition. While some military regimes introduced economic and infrastructural reforms, corruption and human rights abuses were widespread.\\n\\nThe Transition to Democracy\\nIn 1999, Nigeria transitioned from military rule to democracy with the election of Olusegun Obasanjo as president. This marked the beginning of the Fourth Republic, which continues to the present day. Despite challenges such as political corruption, economic struggles, and security threats from groups like Boko Haram, Nigeria has made significant progress in consolidating its democratic institutions.\\n\\nNigeria's Economy and Global Influence\\nAs Africa’s largest economy, Nigeria is a major player in global politics and commerce. The country’s wealth comes primarily from oil and gas, but industries like agriculture, technology, and entertainment (especially Nollywood and Afrobeats music) are also growing rapidly. However, economic inequality, unemployment, and inadequate infrastructure remain pressing concerns.\\n\\nConclusion: Nigeria’s Path Forward\\nNigeria’s history is one of resilience, diversity, and ambition. Despite its colonial past, civil conflicts, and governance challenges, the country has remained a key force in Africa. As Nigeria continues to develop, its future will depend on how it manages its ethnic diversity, fosters economic growth, and strengthens democratic governance. With a youthful population and a wealth of natural and human resources, Nigeria has the potential to become one of the world’s leading nations.\\n\""
      ]
     },
     "execution_count": 14,
     "metadata": {},
     "output_type": "execute_result"
    }
   ],
   "source": [
    "corpus = \"\".join(corpus)\n",
    "\n",
    "corpus"
   ]
  },
  {
   "cell_type": "code",
   "execution_count": 15,
   "id": "00f3f936",
   "metadata": {},
   "outputs": [],
   "source": [
    "def preprocess(text):\n",
    "    sentences = []\n",
    "    doc = nlp(text)\n",
    "    for sentence in doc.sents:\n",
    "        sentence =re.sub(\"\\n+\", \" \", sentence.text)\n",
    "        sentences.append(f'{sentence}')\n",
    "    return sentences"
   ]
  },
  {
   "cell_type": "code",
   "execution_count": 16,
   "id": "81eb8c92",
   "metadata": {},
   "outputs": [],
   "source": [
    "corpus = preprocess(corpus)"
   ]
  },
  {
   "cell_type": "code",
   "execution_count": 17,
   "id": "48366d1b",
   "metadata": {},
   "outputs": [
    {
     "data": {
      "text/plain": [
       "['Nigeria, the most populous country in Africa, has a rich and diverse history shaped by ancient civilizations, colonial rule, and its path to independence.',\n",
       " 'The country, located in West Africa, is home to over 250 ethnic groups and has experienced significant historical events that have influenced its development.',\n",
       " 'From the early kingdoms to modern governance, Nigeria’s history is a fascinating narrative of resilience, struggle, and growth. ',\n",
       " 'Ancient Kingdoms and Civilizations Long before European contact, several powerful kingdoms and civilizations thrived in what is now Nigeria.',\n",
       " 'The Nok civilization (1000 BC–300 AD) is one of the earliest known societies, famous for its advanced terracotta sculptures.',\n",
       " 'Later, the Yoruba Kingdoms of Ife and Oyo, as well as the Benin Empire, became dominant in the southwestern region.',\n",
       " 'In the north, the Kanem-Bornu Empire and the Hausa city-states developed as powerful trading hubs, engaging in commerce with North Africa and the Arab world. ',\n",
       " 'The Influence of Islam and Christianity Islam arrived in northern Nigeria through trade routes from North Africa as early as the 11th century.',\n",
       " 'It spread rapidly, influencing governance, education, and culture in the region.',\n",
       " 'The Sokoto Caliphate, established by Usman dan Fodio in the early 19th century, became one of the largest Islamic states in Africa.',\n",
       " 'Meanwhile, Christianity was introduced to southern Nigeria in the 15th century by Portuguese missionaries and expanded significantly during British colonial rule.',\n",
       " 'These two religions continue to shape Nigeria’s cultural and political landscape today. ',\n",
       " 'The Transatlantic Slave Trade and Colonial Expansion Between the 16th and 19th centuries, the transatlantic slave trade significantly impacted Nigeria.',\n",
       " 'European traders, particularly the British, Portuguese, and Dutch, established coastal trade posts to exchange goods for enslaved Africans.',\n",
       " 'The ports of Lagos, Calabar, and Bonny became key centers for this trade.',\n",
       " 'The abolition of the slave trade in the 19th century led to a shift in European interests toward colonization and economic exploitation of Nigeria’s natural resources. ',\n",
       " 'British Colonial Rule and the Amalgamation of Nigeria The British gradually extended their control over Nigeria through military conquests and diplomatic treaties.',\n",
       " 'In 1914, the British merged the Northern and Southern Protectorates with the Colony of Lagos to form modern Nigeria.',\n",
       " 'This move was largely for administrative convenience and economic exploitation, without considering the vast ethnic and cultural differences among Nigeria’s diverse population.',\n",
       " 'The effects of this forced amalgamation remain evident in Nigeria’s contemporary political challenges. ',\n",
       " 'Struggle for Independence and the First Republic By the early 20th century, Nigerians began demanding self-rule.',\n",
       " 'Nationalist movements, led by figures such as Nnamdi Azikiwe, Obafemi Awolowo, and Ahmadu Bello, called for political and economic independence.',\n",
       " 'In 1960, Nigeria gained independence from Britain, and a parliamentary system was adopted.',\n",
       " 'However, the regional divisions created during colonial rule led to tensions and conflicts among the country’s major ethnic groups—the Hausa-Fulani in the north, the Yoruba in the west, and the Igbo in the east. ',\n",
       " 'The Nigerian Civil War (1967–1970) One of Nigeria’s most devastating conflicts was the Biafran War, also known as the Nigerian Civil War.',\n",
       " 'After a series of ethnic and political crises, the eastern region, dominated by the Igbo, declared independence as the Republic of Biafra in 1967.',\n",
       " 'This led to a brutal war between the Nigerian government and Biafran forces, resulting in widespread famine and the deaths of over a million people.',\n",
       " 'The war ended in 1970 with Biafra’s surrender, but its impact continues to shape Nigeria’s political and ethnic relations. ',\n",
       " 'Military Rule and Political Instability Following the civil war, Nigeria experienced a series of military coups and countercoups, leading to years of dictatorship.',\n",
       " 'Leaders such as General Yakubu Gowon, Murtala Muhammed, Olusegun Obasanjo, and Sani Abacha ruled at different times, often suppressing political opposition.',\n",
       " 'While some military regimes introduced economic and infrastructural reforms, corruption and human rights abuses were widespread. ',\n",
       " 'The Transition to Democracy In 1999, Nigeria transitioned from military rule to democracy with the election of Olusegun Obasanjo as president.',\n",
       " 'This marked the beginning of the Fourth Republic, which continues to the present day.',\n",
       " 'Despite challenges such as political corruption, economic struggles, and security threats from groups like Boko Haram, Nigeria has made significant progress in consolidating its democratic institutions. ',\n",
       " \"Nigeria's Economy and Global Influence As Africa’s largest economy, Nigeria is a major player in global politics and commerce.\",\n",
       " 'The country’s wealth comes primarily from oil and gas, but industries like agriculture, technology, and entertainment (especially Nollywood and Afrobeats music) are also growing rapidly.',\n",
       " 'However, economic inequality, unemployment, and inadequate infrastructure remain pressing concerns. ',\n",
       " 'Conclusion: Nigeria’s Path Forward Nigeria’s history is one of resilience, diversity, and ambition.',\n",
       " 'Despite its colonial past, civil conflicts, and governance challenges, the country has remained a key force in Africa.',\n",
       " 'As Nigeria continues to develop, its future will depend on how it manages its ethnic diversity, fosters economic growth, and strengthens democratic governance.',\n",
       " 'With a youthful population and a wealth of natural and human resources, Nigeria has the potential to become one of the world’s leading nations. ']"
      ]
     },
     "execution_count": 17,
     "metadata": {},
     "output_type": "execute_result"
    }
   ],
   "source": [
    "corpus"
   ]
  },
  {
   "cell_type": "code",
   "execution_count": 18,
   "id": "546e5d4b",
   "metadata": {},
   "outputs": [
    {
     "data": {
      "text/plain": [
       "41"
      ]
     },
     "execution_count": 18,
     "metadata": {},
     "output_type": "execute_result"
    }
   ],
   "source": [
    "len(corpus)"
   ]
  },
  {
   "cell_type": "code",
   "execution_count": 19,
   "id": "8164a62e",
   "metadata": {},
   "outputs": [],
   "source": [
    "checkpoint = \"sentence-transformers/multi-qa-MiniLM-L6-cos-v1\"\n",
    "\n",
    "model = SentenceTransformer(checkpoint)"
   ]
  },
  {
   "cell_type": "code",
   "execution_count": 20,
   "id": "2ba8b2fa",
   "metadata": {},
   "outputs": [],
   "source": [
    "def embedding(corpus: list):\n",
    "    return model.encode(corpus, normalize_embeddings=True)"
   ]
  },
  {
   "cell_type": "code",
   "execution_count": 21,
   "id": "72946135",
   "metadata": {},
   "outputs": [],
   "source": [
    "corpus_embedding = embedding(corpus)"
   ]
  },
  {
   "cell_type": "code",
   "execution_count": 28,
   "id": "5178f053",
   "metadata": {},
   "outputs": [
    {
     "data": {
      "text/plain": [
       "array([[ 0.01632937, -0.02142715, -0.06251978, ...,  0.04031044,\n",
       "        -0.01691707, -0.02999892],\n",
       "       [ 0.12324904,  0.10927784, -0.045377  , ...,  0.04659493,\n",
       "        -0.04074575, -0.02324787],\n",
       "       [-0.02444647,  0.05335668, -0.04062165, ...,  0.02408938,\n",
       "         0.00773834, -0.02998484],\n",
       "       ...,\n",
       "       [ 0.00820045,  0.10998163, -0.03618674, ..., -0.00829757,\n",
       "        -0.03384005,  0.00085488],\n",
       "       [-0.02651662,  0.0481002 ,  0.0410602 , ..., -0.00291672,\n",
       "         0.00715947, -0.01870273],\n",
       "       [ 0.0101514 , -0.00267725,  0.01663405, ..., -0.02849343,\n",
       "         0.0103144 ,  0.01494583]], dtype=float32)"
      ]
     },
     "execution_count": 28,
     "metadata": {},
     "output_type": "execute_result"
    }
   ],
   "source": [
    "corpus_embedding"
   ]
  },
  {
   "cell_type": "code",
   "execution_count": 29,
   "id": "2e2a9f09",
   "metadata": {},
   "outputs": [
    {
     "data": {
      "text/plain": [
       "384"
      ]
     },
     "execution_count": 29,
     "metadata": {},
     "output_type": "execute_result"
    }
   ],
   "source": [
    "embedding_size = corpus_embedding.shape[1]\n",
    "\n",
    "embedding_size"
   ]
  },
  {
   "cell_type": "code",
   "execution_count": 30,
   "id": "7142aa7b",
   "metadata": {},
   "outputs": [],
   "source": [
    "index = faiss.IndexFlatIP(embedding_size)"
   ]
  },
  {
   "cell_type": "code",
   "execution_count": 31,
   "id": "d6bc0b24",
   "metadata": {},
   "outputs": [],
   "source": [
    "index.add(corpus_embedding)"
   ]
  },
  {
   "cell_type": "code",
   "execution_count": 32,
   "id": "a02b8174",
   "metadata": {},
   "outputs": [
    {
     "data": {
      "text/plain": [
       "41"
      ]
     },
     "execution_count": 32,
     "metadata": {},
     "output_type": "execute_result"
    }
   ],
   "source": [
    "index.ntotal"
   ]
  },
  {
   "cell_type": "code",
   "execution_count": 33,
   "id": "ba79a42d",
   "metadata": {},
   "outputs": [
    {
     "name": "stdout",
     "output_type": "stream",
     "text": [
      "✅ FAISS index saved successfully!\n"
     ]
    }
   ],
   "source": [
    "# write / save index embedding to file\n",
    "faiss.write_index(index, \"index/nigeria_history_embeddig.index\")\n",
    "\n",
    "print(\"✅ FAISS index saved successfully!\")"
   ]
  },
  {
   "cell_type": "code",
   "execution_count": 34,
   "id": "f242d523",
   "metadata": {},
   "outputs": [],
   "source": [
    "index = faiss.read_index(\"index/nigeria_history_embeddig.index\")"
   ]
  },
  {
   "cell_type": "code",
   "execution_count": 35,
   "id": "43f4b581",
   "metadata": {},
   "outputs": [
    {
     "data": {
      "text/plain": [
       "41"
      ]
     },
     "execution_count": 35,
     "metadata": {},
     "output_type": "execute_result"
    }
   ],
   "source": [
    "index.ntotal"
   ]
  },
  {
   "cell_type": "code",
   "execution_count": 43,
   "id": "cb0fa877",
   "metadata": {},
   "outputs": [],
   "source": [
    "query = [\"In the 19th century what led to a shift in European interests toward colonization and economic exploitation of Nigeria’s natural resources?\"]"
   ]
  },
  {
   "cell_type": "code",
   "execution_count": 44,
   "id": "8fc15391",
   "metadata": {},
   "outputs": [],
   "source": [
    "query_embedding = embedding(query)"
   ]
  },
  {
   "cell_type": "code",
   "execution_count": 45,
   "id": "99992e4b",
   "metadata": {},
   "outputs": [
    {
     "data": {
      "text/plain": [
       "(1, 384)"
      ]
     },
     "execution_count": 45,
     "metadata": {},
     "output_type": "execute_result"
    }
   ],
   "source": [
    "query_embedding.shape"
   ]
  },
  {
   "cell_type": "code",
   "execution_count": 46,
   "id": "40b6cfca",
   "metadata": {},
   "outputs": [],
   "source": [
    "k = 1 # no of search results"
   ]
  },
  {
   "cell_type": "code",
   "execution_count": 47,
   "id": "10fceac0",
   "metadata": {},
   "outputs": [],
   "source": [
    "scores, indices = index.search(query_embedding, k)"
   ]
  },
  {
   "cell_type": "code",
   "execution_count": 48,
   "id": "f257255b",
   "metadata": {},
   "outputs": [],
   "source": [
    "answers=[]\n",
    "for i in range(k):\n",
    "    result = corpus[indices[0][i]]\n",
    "    answers.append(result)"
   ]
  },
  {
   "cell_type": "code",
   "execution_count": 49,
   "id": "9e104d56",
   "metadata": {},
   "outputs": [
    {
     "data": {
      "text/plain": [
       "'The abolition of the slave trade in the 19th century led to a shift in European interests toward colonization and economic exploitation of Nigeria’s natural resources. '"
      ]
     },
     "execution_count": 49,
     "metadata": {},
     "output_type": "execute_result"
    }
   ],
   "source": [
    "\" \".join(answers)"
   ]
  },
  {
   "cell_type": "code",
   "execution_count": null,
   "id": "e37d65e1",
   "metadata": {},
   "outputs": [],
   "source": []
  }
 ],
 "metadata": {
  "kernelspec": {
   "display_name": "Python 3 (ipykernel)",
   "language": "python",
   "name": "python3"
  },
  "language_info": {
   "codemirror_mode": {
    "name": "ipython",
    "version": 3
   },
   "file_extension": ".py",
   "mimetype": "text/x-python",
   "name": "python",
   "nbconvert_exporter": "python",
   "pygments_lexer": "ipython3",
   "version": "3.12.2"
  }
 },
 "nbformat": 4,
 "nbformat_minor": 5
}
